{
 "cells": [
  {
   "cell_type": "markdown",
   "metadata": {},
   "source": [
    "# Vectorization"
   ]
  },
  {
   "cell_type": "markdown",
   "metadata": {},
   "source": [
    "` WHENEVER POSSIBLE, AVOID EXPLICIT FOR LOOPS IN DEEP LEARNING`"
   ]
  },
  {
   "cell_type": "code",
   "execution_count": 3,
   "metadata": {},
   "outputs": [
    {
     "data": {
      "text/plain": [
       "array([1, 2, 3, 4])"
      ]
     },
     "execution_count": 3,
     "metadata": {},
     "output_type": "execute_result"
    }
   ],
   "source": [
    "import numpy as np\n",
    "\n",
    "a = np.array([1, 2, 3, 4])\n",
    "a"
   ]
  },
  {
   "cell_type": "code",
   "execution_count": 5,
   "metadata": {},
   "outputs": [
    {
     "name": "stdout",
     "output_type": "stream",
     "text": [
      "Vectorized version 24.329423904418945ms\n"
     ]
    }
   ],
   "source": [
    "'VECTORIZED VERSION'\n",
    "\n",
    "import time\n",
    "\n",
    "a = np.random.rand(1000000)\n",
    "b = np.random.rand(1000000)\n",
    "\n",
    "initial_time = time.time()\n",
    "c = np.dot(a, b)\n",
    "final_time = time.time()\n",
    "\n",
    "print('Vectorized version ' + str(1000*(final_time - initial_time)) + 'ms')"
   ]
  },
  {
   "cell_type": "code",
   "execution_count": 26,
   "metadata": {},
   "outputs": [
    {
     "name": "stdout",
     "output_type": "stream",
     "text": [
      "Unvectorized version 363.2352352142334ms\n"
     ]
    }
   ],
   "source": [
    "'UNVECTORIZED VERSION'\n",
    "\n",
    "initial_time = time.time()\n",
    "for i in range(1000000):\n",
    "    c += a[i] * b[i]\n",
    "final_time = time.time()\n",
    "\n",
    "print('Unvectorized version ' + str(1000*(final_time - initial_time)) + 'ms')"
   ]
  }
 ],
 "metadata": {
  "kernelspec": {
   "display_name": "Python 3",
   "language": "python",
   "name": "python3"
  },
  "language_info": {
   "codemirror_mode": {
    "name": "ipython",
    "version": 3
   },
   "file_extension": ".py",
   "mimetype": "text/x-python",
   "name": "python",
   "nbconvert_exporter": "python",
   "pygments_lexer": "ipython3",
   "version": "3.6.5"
  }
 },
 "nbformat": 4,
 "nbformat_minor": 2
}
