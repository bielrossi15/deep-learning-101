{
 "cells": [
  {
   "cell_type": "code",
   "execution_count": 203,
   "metadata": {},
   "outputs": [
    {
     "data": {
      "text/plain": [
       "array([[0.97723742, 0.97736967, 0.95631945],\n",
       "       [0.94604138, 0.92617679, 0.87937934],\n",
       "       [0.96652407, 0.95403506, 0.88876719]])"
      ]
     },
     "execution_count": 203,
     "metadata": {},
     "output_type": "execute_result"
    }
   ],
   "source": [
    "# Xmatrix = matrix (Nx, m)\n",
    "# Zmatrix = [z1, z2, z3,..., zm] = wT * Xmatrix + [b, b, b,..., b] = [wT * x1 + b, wT * x2 + b,... wT * xm + b]\n",
    "import numpy as np\n",
    "\n",
    "def sigmoid(x):\n",
    "    return 1 / (1 + np.exp(-x))\n",
    "\n",
    "w = np.random.rand(10, 3)\n",
    "X = np.random.rand(10, 3)\n",
    "b = 0.5\n",
    "\n",
    "Z = np.dot(w.T, X) + b\n",
    "\n",
    "A = sigmoid(Z)\n",
    "\n",
    "A"
   ]
  },
  {
   "cell_type": "code",
   "execution_count": null,
   "metadata": {},
   "outputs": [],
   "source": [
    "# Gradient vectorization\n",
    "# dz1 = a1 - y1\n",
    "# A = [a1, a2, a3, ..., am] = sigmoid(z)\n",
    "# Y = [y1, y2, y3, ... , ym] = output\n",
    "# dZ = [dz1, dz2, ... dzm] = A - Y, dL/dZ\n",
    "\n",
    "Y = "
   ]
  }
 ],
 "metadata": {
  "kernelspec": {
   "display_name": "Python 3",
   "language": "python",
   "name": "python3"
  },
  "language_info": {
   "codemirror_mode": {
    "name": "ipython",
    "version": 3
   },
   "file_extension": ".py",
   "mimetype": "text/x-python",
   "name": "python",
   "nbconvert_exporter": "python",
   "pygments_lexer": "ipython3",
   "version": "3.6.5"
  }
 },
 "nbformat": 4,
 "nbformat_minor": 2
}
