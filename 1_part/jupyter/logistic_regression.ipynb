{
 "cells": [
  {
   "cell_type": "code",
   "execution_count": 125,
   "metadata": {},
   "outputs": [
    {
     "data": {
      "text/plain": [
       "array([[0.75678075, 0.79028155, 0.80204885],\n",
       "       [0.77159826, 0.8276258 , 0.85926109],\n",
       "       [0.78790702, 0.80177085, 0.85146432]])"
      ]
     },
     "execution_count": 125,
     "metadata": {},
     "output_type": "execute_result"
    }
   ],
   "source": [
    "# Xmatrix = matrix (Nx, m)\n",
    "# Zmatrix = [z1, z2, z3,..., zm] = wT * Xmatrix + [b, b, b,..., b] = [wT * x1 + b, wT * x2 + b,... wT * xm + b]\n",
    "import numpy as np\n",
    "\n",
    "def sigmoid(z):\n",
    "    return 1 / (1 + np.exp(-z))\n",
    "\n",
    "w = np.random.rand(5, 3)\n",
    "X = np.random.rand(5, 3)\n",
    "m = 3\n",
    "b = 0.5\n",
    "\n",
    "Z = np.dot(w.T, X) + b\n",
    "\n",
    "A = sigmoid(Z)\n",
    "\n",
    "A"
   ]
  },
  {
   "cell_type": "code",
   "execution_count": 139,
   "metadata": {},
   "outputs": [
    {
     "ename": "SyntaxError",
     "evalue": "invalid syntax (<ipython-input-139-99c6478aa5ea>, line 17)",
     "output_type": "error",
     "traceback": [
      "\u001b[0;36m  File \u001b[0;32m\"<ipython-input-139-99c6478aa5ea>\"\u001b[0;36m, line \u001b[0;32m17\u001b[0m\n\u001b[0;31m    w := w -  alpha * dw\u001b[0m\n\u001b[0m       ^\u001b[0m\n\u001b[0;31mSyntaxError\u001b[0m\u001b[0;31m:\u001b[0m invalid syntax\n"
     ]
    }
   ],
   "source": [
    "# Gradient vectorization\n",
    "# dz1 = a1 - y1\n",
    "# A = [a1, a2, a3, ..., am] = sigmoid(z)\n",
    "# Y = [y1, y2, y3, ... , ym] = output\n",
    "# dZ = [dz1, dz2, ... dzm] = A - Y, dL/dZ\n",
    "# db = 1/m * (sum dZ[i])\n",
    "# dw = 1/m * (X * dZT)\n",
    "\n",
    "Y = np.random.rand(3, 3)\n",
    "\n",
    "dZ = A - Y # dLoss/dZ\n",
    "dw = (1/m) * np.dot(X, dZ.T)\n",
    "db = (1/m) * sum(dZ)\n",
    "\n",
    "alpha = 2\n",
    "\n",
    "w := w -  alpha * dw\n",
    "b := b - alpha * db"
   ]
  },
  {
   "cell_type": "code",
   "execution_count": null,
   "metadata": {},
   "outputs": [],
   "source": []
  }
 ],
 "metadata": {
  "kernelspec": {
   "display_name": "Python 3",
   "language": "python",
   "name": "python3"
  },
  "language_info": {
   "codemirror_mode": {
    "name": "ipython",
    "version": 3
   },
   "file_extension": ".py",
   "mimetype": "text/x-python",
   "name": "python",
   "nbconvert_exporter": "python",
   "pygments_lexer": "ipython3",
   "version": "3.6.5"
  }
 },
 "nbformat": 4,
 "nbformat_minor": 2
}
